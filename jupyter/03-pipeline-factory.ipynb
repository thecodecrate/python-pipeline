{
 "cells": [
  {
   "cell_type": "code",
   "execution_count": 1,
   "metadata": {},
   "outputs": [
    {
     "name": "stdout",
     "output_type": "stream",
     "text": [
      "result is 12\n"
     ]
    }
   ],
   "source": [
    "from thecodecrate_pipeline import (\n",
    "    PipelineFactory,\n",
    "    StageCollection,\n",
    ")\n",
    "\n",
    "# define a factory with a few stages\n",
    "some_stages: StageCollection = (\n",
    "    (lambda x: x + 1),\n",
    "    (lambda x: x + 1),\n",
    "    (lambda x: f\"result is {x}\"),\n",
    ")\n",
    "\n",
    "pipeline_factory = (PipelineFactory[int, str]()).with_stages(some_stages)\n",
    "\n",
    "# create and process\n",
    "pipeline = pipeline_factory.make()\n",
    "result = await pipeline.process(10)\n",
    "\n",
    "# check the result\n",
    "assert result == \"result is 12\"\n",
    "print(result)"
   ]
  },
  {
   "cell_type": "code",
   "execution_count": 2,
   "metadata": {},
   "outputs": [
    {
     "name": "stdout",
     "output_type": "stream",
     "text": [
      "original pipeline: result is 12\n",
      "new pipeline: result is 12!!!\n",
      "original pipeline: result is 12\n",
      "original pipeline: result is 12\n"
     ]
    }
   ],
   "source": [
    "# adding another stage after the pipeline has been created\n",
    "from typing import Any\n",
    "\n",
    "\n",
    "def add_excitement(x: Any) -> str:\n",
    "    return f\"{x}!!!\"\n",
    "\n",
    "\n",
    "pipeline_factory.add_stage(add_excitement)\n",
    "\n",
    "# the original pipeline is not affected\n",
    "result2 = await pipeline.process(10)\n",
    "assert result2 == result\n",
    "print(f\"original pipeline: {result}\")\n",
    "\n",
    "# now, let's create a new pipeline, with the excitement stage!!!\n",
    "pipeline2 = pipeline_factory.make()\n",
    "result3 = await pipeline2.process(10)\n",
    "\n",
    "# the new pipeline has the excitement!!!\n",
    "assert result3 == \"result is 12!!!\"\n",
    "print(f\"new pipeline: {result3}\")\n",
    "\n",
    "# notice the original pipeline is not affected\n",
    "result4 = await pipeline.process(10)\n",
    "assert result4 == result\n",
    "print(f\"original pipeline: {result}\")\n",
    "\n",
    "# what if we try to change the original pipeline, directly?\n",
    "pipeline.pipe(add_excitement)  # <- adding the excitement stage to the original pipeline\n",
    "\n",
    "# the original pipeline is still not affected, due to the immutability nature of pipelines\n",
    "result5 = await pipeline.process(10)\n",
    "assert result5 == result\n",
    "print(f\"original pipeline: {result}\")"
   ]
  },
  {
   "cell_type": "code",
   "execution_count": 3,
   "metadata": {},
   "outputs": [
    {
     "name": "stdout",
     "output_type": "stream",
     "text": [
      "result is 12\n",
      "<__main__.MyProcessor object at 0x799918ffe270>\n"
     ]
    }
   ],
   "source": [
    "from thecodecrate_pipeline import ChainedProcessor, StageCollection\n",
    "\n",
    "\n",
    "# create factory with a processor\n",
    "class MyProcessor(ChainedProcessor):\n",
    "    pass\n",
    "\n",
    "\n",
    "some_stages: StageCollection = (\n",
    "    (lambda x: x + 1),\n",
    "    (lambda x: x + 1),\n",
    "    (lambda x: f\"result is {x}\"),\n",
    ")\n",
    "\n",
    "pipeline_factory = (\n",
    "    (PipelineFactory[int, str]()).with_stages(some_stages).with_processor(MyProcessor())\n",
    ")\n",
    "\n",
    "# create and process\n",
    "pipeline = pipeline_factory.make()\n",
    "result = await pipeline.process(10)\n",
    "print(result)\n",
    "\n",
    "# check the processor\n",
    "processor_instance = pipeline.get_processor_instance()\n",
    "assert processor_instance.__class__ == MyProcessor\n",
    "print(processor_instance)"
   ]
  }
 ],
 "metadata": {
  "kernelspec": {
   "display_name": ".venv",
   "language": "python",
   "name": "python3"
  },
  "language_info": {
   "codemirror_mode": {
    "name": "ipython",
    "version": 3
   },
   "file_extension": ".py",
   "mimetype": "text/x-python",
   "name": "python",
   "nbconvert_exporter": "python",
   "pygments_lexer": "ipython3",
   "version": "3.13.2"
  }
 },
 "nbformat": 4,
 "nbformat_minor": 2
}
