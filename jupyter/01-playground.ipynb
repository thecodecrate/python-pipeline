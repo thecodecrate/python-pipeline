{
 "cells": [
  {
   "cell_type": "markdown",
   "metadata": {},
   "source": [
    "## Examples"
   ]
  },
  {
   "cell_type": "code",
   "execution_count": 4,
   "metadata": {},
   "outputs": [
    {
     "data": {
      "text/plain": [
       "3"
      ]
     },
     "execution_count": 4,
     "metadata": {},
     "output_type": "execute_result"
    }
   ],
   "source": [
    "from thecodecrate_pipeline import (\n",
    "    Pipeline,\n",
    ")\n",
    "\n",
    "\n",
    "pipeline = (\n",
    "    (Pipeline[int]())\n",
    "    .pipe(lambda payload: payload + 1)\n",
    "    .pipe(lambda payload: payload + 1)\n",
    ")\n",
    "\n",
    "# outputs 3\n",
    "await pipeline.process(1)"
   ]
  },
  {
   "cell_type": "code",
   "execution_count": 5,
   "metadata": {},
   "outputs": [
    {
     "data": {
      "text/plain": [
       "21"
      ]
     },
     "execution_count": 5,
     "metadata": {},
     "output_type": "execute_result"
    }
   ],
   "source": [
    "from thecodecrate_pipeline import (\n",
    "    StageInterface,\n",
    ")\n",
    "\n",
    "\n",
    "class TimesTwoStage(StageInterface[int]):\n",
    "    async def __call__(self, payload: int) -> int:\n",
    "        return payload * 2\n",
    "\n",
    "\n",
    "class AddOneStage(StageInterface[int]):\n",
    "    async def __call__(self, payload: int) -> int:\n",
    "        return payload + 1\n",
    "\n",
    "\n",
    "my_pipeline = (Pipeline[int]()).pipe(TimesTwoStage()).pipe(AddOneStage())\n",
    "\n",
    "# returns 21\n",
    "await my_pipeline.process(10)"
   ]
  },
  {
   "cell_type": "code",
   "execution_count": 6,
   "metadata": {},
   "outputs": [
    {
     "data": {
      "text/plain": [
       "36"
      ]
     },
     "execution_count": 6,
     "metadata": {},
     "output_type": "execute_result"
    }
   ],
   "source": [
    "class TimesThreeStage(StageInterface[int]):\n",
    "    async def __call__(self, payload: int) -> int:\n",
    "        return payload * 3\n",
    "\n",
    "\n",
    "class AddFiveStage(StageInterface[int]):\n",
    "    async def __call__(self, payload: int) -> int:\n",
    "        return payload + 5\n",
    "\n",
    "\n",
    "pipeline = (\n",
    "    (Pipeline[int]())\n",
    "    .pipe(TimesThreeStage())\n",
    "    .pipe(my_pipeline)\n",
    "    .pipe(AddFiveStage())\n",
    ")\n",
    "\n",
    "# returns 36\n",
    "# 5 * 3 = 15 * 2 + 1 = 31 + 5 = 36\n",
    "await pipeline.process(5)"
   ]
  }
 ],
 "metadata": {
  "kernelspec": {
   "display_name": "myenv",
   "language": "python",
   "name": "python3"
  },
  "language_info": {
   "codemirror_mode": {
    "name": "ipython",
    "version": 3
   },
   "file_extension": ".py",
   "mimetype": "text/x-python",
   "name": "python",
   "nbconvert_exporter": "python",
   "pygments_lexer": "ipython3",
   "version": "3.11.9"
  }
 },
 "nbformat": 4,
 "nbformat_minor": 2
}
