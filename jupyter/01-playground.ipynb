{
 "cells": [
  {
   "cell_type": "markdown",
   "metadata": {},
   "source": [
    "## Examples"
   ]
  },
  {
   "cell_type": "code",
   "execution_count": 1,
   "metadata": {},
   "outputs": [],
   "source": [
    "from thecodecrate_pipeline import Pipeline\n",
    "\n",
    "pipeline = Pipeline()"
   ]
  },
  {
   "cell_type": "code",
   "execution_count": 2,
   "metadata": {},
   "outputs": [
    {
     "data": {
      "text/plain": [
       "'result is 3'"
      ]
     },
     "execution_count": 2,
     "metadata": {},
     "output_type": "execute_result"
    }
   ],
   "source": [
    "# simple usage\n",
    "from thecodecrate_pipeline import (\n",
    "    Pipeline,\n",
    ")\n",
    "\n",
    "pipeline = (\n",
    "    (Pipeline[int, str]())\n",
    "    .pipe(lambda x: x + 1)\n",
    "    .pipe(lambda x: x + 1)\n",
    "    .pipe(lambda x: f\"result is {x}\")\n",
    ")\n",
    "\n",
    "# 'result is 3'\n",
    "await pipeline.process(1)"
   ]
  },
  {
   "cell_type": "code",
   "execution_count": 3,
   "metadata": {},
   "outputs": [
    {
     "data": {
      "text/plain": [
       "21"
      ]
     },
     "execution_count": 3,
     "metadata": {},
     "output_type": "execute_result"
    }
   ],
   "source": [
    "# with class-based stages\n",
    "from thecodecrate_pipeline import (\n",
    "    StageInterface,\n",
    ")\n",
    "\n",
    "\n",
    "class TimesTwoStage(StageInterface[int]):\n",
    "    async def __call__(self, payload: int) -> int:\n",
    "        return payload * 2\n",
    "\n",
    "\n",
    "class AddOneStage(StageInterface[int]):\n",
    "    async def __call__(self, payload: int) -> int:\n",
    "        return payload + 1\n",
    "\n",
    "\n",
    "my_pipeline = (Pipeline[int]()).pipe(TimesTwoStage()).pipe(AddOneStage())\n",
    "\n",
    "# returns 21\n",
    "result = await my_pipeline.process(10)\n",
    "assert result == 21\n",
    "result"
   ]
  },
  {
   "cell_type": "code",
   "execution_count": 4,
   "metadata": {},
   "outputs": [
    {
     "data": {
      "text/plain": [
       "36"
      ]
     },
     "execution_count": 4,
     "metadata": {},
     "output_type": "execute_result"
    }
   ],
   "source": [
    "# with pipelines as stages\n",
    "class TimesThreeStage(StageInterface[int]):\n",
    "    async def __call__(self, payload: int) -> int:\n",
    "        return payload * 3\n",
    "\n",
    "\n",
    "class AddFiveStage(StageInterface[int]):\n",
    "    async def __call__(self, payload: int) -> int:\n",
    "        return payload + 5\n",
    "\n",
    "\n",
    "pipeline = (\n",
    "    (Pipeline[int]()).pipe(TimesThreeStage()).pipe(my_pipeline).pipe(AddFiveStage())\n",
    ")\n",
    "\n",
    "# returns 36\n",
    "# 5 * 3 = 15 * 2 + 1 = 31 + 5 = 36\n",
    "result = await pipeline.process(5)\n",
    "assert result == 36\n",
    "result"
   ]
  },
  {
   "cell_type": "code",
   "execution_count": 5,
   "metadata": {},
   "outputs": [
    {
     "data": {
      "text/plain": [
       "36"
      ]
     },
     "execution_count": 5,
     "metadata": {},
     "output_type": "execute_result"
    }
   ],
   "source": [
    "# with stages declared on the class\n",
    "class MyPipeline(Pipeline[int]):\n",
    "    stages = (\n",
    "        TimesThreeStage(),\n",
    "        my_pipeline,\n",
    "        AddFiveStage,\n",
    "    )\n",
    "\n",
    "\n",
    "# returns 36\n",
    "result = await MyPipeline().process(5)\n",
    "assert result == 36\n",
    "result"
   ]
  },
  {
   "cell_type": "code",
   "execution_count": 6,
   "metadata": {},
   "outputs": [
    {
     "data": {
      "text/plain": [
       "'hello: 0: 1'"
      ]
     },
     "execution_count": 6,
     "metadata": {},
     "output_type": "execute_result"
    }
   ],
   "source": [
    "###\n",
    "## Stages with Custom Arguments\n",
    "##\n",
    "## On this example, the stages have the current index\n",
    "## of the processing queue\n",
    "###\n",
    "from abc import abstractmethod\n",
    "from typing import Awaitable, Callable, Concatenate, cast\n",
    "\n",
    "from thecodecrate_pipeline import (\n",
    "    Processor,\n",
    "    Stage,\n",
    "    T_in,\n",
    "    T_out,\n",
    "    StageInstanceCollection,\n",
    ")\n",
    "\n",
    "\n",
    "class IndexedStage(Stage[T_in, T_out]):\n",
    "    @abstractmethod\n",
    "    async def __call__(\n",
    "        self,\n",
    "        payload: T_in,\n",
    "        /,\n",
    "        tag: int,\n",
    "    ) -> T_out:\n",
    "        pass\n",
    "\n",
    "\n",
    "IndexedPipelineCallable = (\n",
    "    IndexedStage[T_in, T_out]\n",
    "    | Callable[Concatenate[T_in, ...], Awaitable[T_out]]\n",
    "    | Callable[Concatenate[T_in, ...], T_out]\n",
    ")\n",
    "\n",
    "\n",
    "class IndexedProcessor(Processor[T_in, T_out]):\n",
    "    async def process(\n",
    "        self,\n",
    "        payload: T_in,\n",
    "        stages: StageInstanceCollection,\n",
    "    ) -> T_out:\n",
    "        index = 0\n",
    "\n",
    "        for stage in stages:\n",
    "            payload = await self._call(\n",
    "                callable=stage,\n",
    "                payload=payload,\n",
    "                index=index,\n",
    "            )\n",
    "\n",
    "            index += 1\n",
    "\n",
    "        return cast(T_out, payload)\n",
    "\n",
    "\n",
    "class IndexedPipeline(Pipeline[T_in, T_out]):\n",
    "    processor_class = IndexedProcessor\n",
    "\n",
    "\n",
    "###\n",
    "## Usage\n",
    "###\n",
    "class MyIndexedStage(IndexedStage[str]):\n",
    "    # type-hinting: change `index` type to see an error\n",
    "    async def __call__(self, payload: str, index: int) -> str:\n",
    "        return f\"{payload}: {index}\"\n",
    "\n",
    "\n",
    "indexed_pipeline = (\n",
    "    (IndexedPipeline[str]()).pipe(MyIndexedStage()).pipe(MyIndexedStage())\n",
    ")\n",
    "\n",
    "assert await indexed_pipeline.process(\"test\") == \"test: 0: 1\"\n",
    "\n",
    "# returns \"hello: 0: 1\"\n",
    "result = await indexed_pipeline.process(\"hello\")\n",
    "assert result == \"hello: 0: 1\"\n",
    "result"
   ]
  },
  {
   "cell_type": "code",
   "execution_count": 7,
   "metadata": {},
   "outputs": [
    {
     "data": {
      "text/plain": [
       "12"
      ]
     },
     "execution_count": 7,
     "metadata": {},
     "output_type": "execute_result"
    }
   ],
   "source": [
    "from thecodecrate_pipeline import InterruptiblePipeline\n",
    "\n",
    "\n",
    "def continues_when_less_than_ten(payload: int) -> bool:\n",
    "    return payload < 10\n",
    "\n",
    "\n",
    "pipeline = (\n",
    "    InterruptiblePipeline[int](continues_when_less_than_ten)\n",
    "    .pipe(lambda payload: payload + 1)\n",
    "    .pipe(lambda payload: payload * 2)\n",
    "    .pipe(lambda payload: payload * 3)\n",
    ")\n",
    "\n",
    "# returns 12\n",
    "result = await pipeline.process(5)\n",
    "assert result == 12\n",
    "result"
   ]
  }
 ],
 "metadata": {
  "kernelspec": {
   "display_name": ".venv",
   "language": "python",
   "name": "python3"
  },
  "language_info": {
   "codemirror_mode": {
    "name": "ipython",
    "version": 3
   },
   "file_extension": ".py",
   "mimetype": "text/x-python",
   "name": "python",
   "nbconvert_exporter": "python",
   "pygments_lexer": "ipython3",
   "version": "3.13.2"
  }
 },
 "nbformat": 4,
 "nbformat_minor": 2
}
