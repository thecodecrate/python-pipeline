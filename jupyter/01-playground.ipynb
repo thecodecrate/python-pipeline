{
 "cells": [
  {
   "cell_type": "markdown",
   "metadata": {},
   "source": [
    "## Examples"
   ]
  },
  {
   "cell_type": "code",
   "execution_count": 1,
   "metadata": {},
   "outputs": [
    {
     "data": {
      "text/plain": [
       "3"
      ]
     },
     "execution_count": 1,
     "metadata": {},
     "output_type": "execute_result"
    }
   ],
   "source": [
    "from thecodecrate_pipeline import (\n",
    "    Pipeline,\n",
    ")\n",
    "\n",
    "\n",
    "pipeline = (\n",
    "    (Pipeline[int]())\n",
    "    .pipe(lambda payload: payload + 1)\n",
    "    .pipe(lambda payload: payload + 1)\n",
    ")\n",
    "\n",
    "# outputs 3\n",
    "await pipeline.process(1)"
   ]
  },
  {
   "cell_type": "code",
   "execution_count": 2,
   "metadata": {},
   "outputs": [
    {
     "data": {
      "text/plain": [
       "21"
      ]
     },
     "execution_count": 2,
     "metadata": {},
     "output_type": "execute_result"
    }
   ],
   "source": [
    "from thecodecrate_pipeline import (\n",
    "    StageInterface,\n",
    ")\n",
    "\n",
    "\n",
    "class TimesTwoStage(StageInterface[int]):\n",
    "    async def __call__(self, payload: int) -> int:\n",
    "        return payload * 2\n",
    "\n",
    "\n",
    "class AddOneStage(StageInterface[int]):\n",
    "    async def __call__(self, payload: int) -> int:\n",
    "        return payload + 1\n",
    "\n",
    "\n",
    "my_pipeline = (Pipeline[int]()).pipe(TimesTwoStage()).pipe(AddOneStage())\n",
    "\n",
    "# returns 21\n",
    "await my_pipeline.process(10)"
   ]
  },
  {
   "cell_type": "code",
   "execution_count": 3,
   "metadata": {},
   "outputs": [
    {
     "data": {
      "text/plain": [
       "36"
      ]
     },
     "execution_count": 3,
     "metadata": {},
     "output_type": "execute_result"
    }
   ],
   "source": [
    "class TimesThreeStage(StageInterface[int]):\n",
    "    async def __call__(self, payload: int) -> int:\n",
    "        return payload * 3\n",
    "\n",
    "\n",
    "class AddFiveStage(StageInterface[int]):\n",
    "    async def __call__(self, payload: int) -> int:\n",
    "        return payload + 5\n",
    "\n",
    "\n",
    "pipeline = (\n",
    "    (Pipeline[int]())\n",
    "    .pipe(TimesThreeStage())\n",
    "    .pipe(my_pipeline)\n",
    "    .pipe(AddFiveStage())\n",
    ")\n",
    "\n",
    "# returns 36\n",
    "# 5 * 3 = 15 * 2 + 1 = 31 + 5 = 36\n",
    "await pipeline.process(5)"
   ]
  },
  {
   "cell_type": "code",
   "execution_count": 4,
   "metadata": {},
   "outputs": [
    {
     "data": {
      "text/plain": [
       "36"
      ]
     },
     "execution_count": 4,
     "metadata": {},
     "output_type": "execute_result"
    }
   ],
   "source": [
    "class MyPipeline(Pipeline[int]):\n",
    "    stages = [\n",
    "        TimesThreeStage(),\n",
    "        my_pipeline,\n",
    "        AddFiveStage(),\n",
    "    ]\n",
    "\n",
    "await MyPipeline().process(5)"
   ]
  },
  {
   "cell_type": "code",
   "execution_count": 5,
   "metadata": {},
   "outputs": [
    {
     "data": {
      "text/plain": [
       "'hello: 0: 1'"
      ]
     },
     "execution_count": 5,
     "metadata": {},
     "output_type": "execute_result"
    }
   ],
   "source": [
    "###\n",
    "## Stages with Custom Arguments\n",
    "##\n",
    "## On this example, the stages have the current index\n",
    "## of the processing queue\n",
    "###\n",
    "from abc import abstractmethod\n",
    "from typing import Awaitable, Callable, Concatenate\n",
    "\n",
    "from thecodecrate_pipeline import (\n",
    "    PipelineInterface,\n",
    "    ProcessorInterface,\n",
    "    StageInterface,\n",
    ")\n",
    "from thecodecrate_pipeline.core.pipeline.payload import TPayload\n",
    "\n",
    "\n",
    "class IndexedStageInterface(StageInterface[TPayload]):\n",
    "    @abstractmethod\n",
    "    async def __call__(\n",
    "        self,\n",
    "        payload: TPayload,\n",
    "        tag: int,\n",
    "    ) -> TPayload:\n",
    "        pass\n",
    "\n",
    "\n",
    "IndexedPipelineCallable = (\n",
    "    IndexedStageInterface[TPayload]\n",
    "    | Callable[Concatenate[TPayload, ...], Awaitable[TPayload]]\n",
    "    | Callable[Concatenate[TPayload, ...], TPayload]\n",
    ")\n",
    "\n",
    "\n",
    "class IndexedProcessor(ProcessorInterface[TPayload]):\n",
    "    async def process(\n",
    "        self,\n",
    "        stages: list[IndexedPipelineCallable[TPayload]],\n",
    "        payload: TPayload,\n",
    "    ) -> TPayload:\n",
    "        index = 0\n",
    "\n",
    "        for stage in stages:\n",
    "            payload = await self._call_stage(\n",
    "                stage=stage,\n",
    "                payload=payload,\n",
    "                index=index,\n",
    "            )\n",
    "\n",
    "            index += 1\n",
    "\n",
    "        return payload\n",
    "\n",
    "\n",
    "class IndexedPipeline(PipelineInterface[TPayload]):\n",
    "    processor_class = IndexedProcessor\n",
    "\n",
    "\n",
    "###\n",
    "## Usage\n",
    "###\n",
    "class MyIndexedStage(IndexedStageInterface[str]):\n",
    "    # type-hinting: change `index` type to see an error\n",
    "    async def __call__(self, payload: str, index: int) -> str:\n",
    "        return f\"{payload}: {index}\"\n",
    "\n",
    "\n",
    "indexed_pipeline = (\n",
    "    (IndexedPipeline[str]()).pipe(MyIndexedStage()).pipe(MyIndexedStage())\n",
    ")\n",
    "\n",
    "assert await indexed_pipeline.process(\"test\") == \"test: 0: 1\"\n",
    "\n",
    "# returns \"hello: 0: 1\"\n",
    "await indexed_pipeline.process(\"hello\")"
   ]
  }
 ],
 "metadata": {
  "kernelspec": {
   "display_name": "myenv",
   "language": "python",
   "name": "python3"
  },
  "language_info": {
   "codemirror_mode": {
    "name": "ipython",
    "version": 3
   },
   "file_extension": ".py",
   "mimetype": "text/x-python",
   "name": "python",
   "nbconvert_exporter": "python",
   "pygments_lexer": "ipython3",
   "version": "3.11.9"
  }
 },
 "nbformat": 4,
 "nbformat_minor": 2
}
