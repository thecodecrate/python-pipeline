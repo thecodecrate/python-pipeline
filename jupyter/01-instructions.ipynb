{
 "cells": [
  {
   "cell_type": "markdown",
   "metadata": {},
   "source": [
    "## Usage"
   ]
  },
  {
   "cell_type": "code",
   "execution_count": 1,
   "metadata": {},
   "outputs": [
    {
     "name": "stdout",
     "output_type": "stream",
     "text": [
      "extra method\n"
     ]
    },
    {
     "data": {
      "text/plain": [
       "'result is 0'"
      ]
     },
     "execution_count": 1,
     "metadata": {},
     "output_type": "execute_result"
    }
   ],
   "source": [
    "from thecodecrate_pipeline.support.libraries.builderable import Builderable\n",
    "\n",
    "\n",
    "class Builder(Builderable[str, int]):\n",
    "    parts: list[int] = []\n",
    "\n",
    "    def build_parts(self, payload: int) -> str:\n",
    "        result = payload + sum(self.parts)\n",
    "\n",
    "        return f\"result is {result}\"\n",
    "\n",
    "    def extra_method(self):\n",
    "        print(\"extra method\")\n",
    "\n",
    "\n",
    "builder = Builder()\n",
    "\n",
    "builder.add(1).add(2).add(3)\n",
    "\n",
    "builder.extra_method()\n",
    "\n",
    "builder.build_parts(0)"
   ]
  },
  {
   "cell_type": "code",
   "execution_count": 2,
   "metadata": {},
   "outputs": [
    {
     "data": {
      "text/plain": [
       "1"
      ]
     },
     "execution_count": 2,
     "metadata": {},
     "output_type": "execute_result"
    }
   ],
   "source": [
    "from src.thecodecrate_pipeline.core.pipeline.pipeline import Pipeline\n",
    "\n",
    "pipeline = (\n",
    "    (Pipeline[int]())\n",
    "    .pipe(lambda payload: payload + 1)\n",
    "    .pipe(lambda payload: payload + 1)\n",
    ")\n",
    "\n",
    "pipeline.process(1)"
   ]
  },
  {
   "cell_type": "code",
   "execution_count": 3,
   "metadata": {},
   "outputs": [
    {
     "data": {
      "text/plain": [
       "10"
      ]
     },
     "execution_count": 3,
     "metadata": {},
     "output_type": "execute_result"
    }
   ],
   "source": [
    "from thecodecrate_pipeline.traits.with_stages.stage_interface import (\n",
    "    StageInterface,\n",
    ")\n",
    "\n",
    "\n",
    "class TimesTwoStage(StageInterface[int]):\n",
    "    def __call__(self, payload: int) -> int:\n",
    "        return payload * 2\n",
    "\n",
    "\n",
    "class AddOneStage(StageInterface[int]):\n",
    "    def __call__(self, payload: int) -> int:\n",
    "        return payload + 1\n",
    "\n",
    "\n",
    "my_pipeline = (Pipeline[int]()).pipe(TimesTwoStage()).pipe(AddOneStage())\n",
    "\n",
    "# returns 21\n",
    "my_pipeline.process(10)"
   ]
  },
  {
   "cell_type": "code",
   "execution_count": 4,
   "metadata": {},
   "outputs": [
    {
     "data": {
      "text/plain": [
       "5"
      ]
     },
     "execution_count": 4,
     "metadata": {},
     "output_type": "execute_result"
    }
   ],
   "source": [
    "class TimesThreeStage(StageInterface[int]):\n",
    "    def __call__(self, payload: int) -> int:\n",
    "        return payload * 3\n",
    "\n",
    "\n",
    "class AddFiveStage(StageInterface[int]):\n",
    "    def __call__(self, payload: int) -> int:\n",
    "        return payload + 5\n",
    "\n",
    "\n",
    "pipeline = (\n",
    "    (Pipeline[int]())\n",
    "    .pipe(TimesThreeStage())\n",
    "    .pipe(my_pipeline)\n",
    "    .pipe(AddFiveStage())\n",
    ")\n",
    "\n",
    "# returns 36\n",
    "# 5 * 3 = 15 * 2 + 1 = 31 + 5 = 36\n",
    "pipeline.process(5)"
   ]
  }
 ],
 "metadata": {
  "kernelspec": {
   "display_name": "myenv",
   "language": "python",
   "name": "python3"
  },
  "language_info": {
   "codemirror_mode": {
    "name": "ipython",
    "version": 3
   },
   "file_extension": ".py",
   "mimetype": "text/x-python",
   "name": "python",
   "nbconvert_exporter": "python",
   "pygments_lexer": "ipython3",
   "version": "3.11.9"
  }
 },
 "nbformat": 4,
 "nbformat_minor": 2
}
