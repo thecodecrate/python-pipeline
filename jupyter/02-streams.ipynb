{
 "cells": [
  {
   "cell_type": "code",
   "execution_count": 1,
   "metadata": {},
   "outputs": [
    {
     "name": "stdout",
     "output_type": "stream",
     "text": [
      "Number: 0\n",
      "Number: 2\n",
      "Number: 4\n",
      "Number: 6\n",
      "Number: 8\n"
     ]
    }
   ],
   "source": [
    "from time import sleep\n",
    "from typing import AsyncIterator\n",
    "\n",
    "from thecodecrate_pipeline import Pipeline\n",
    "\n",
    "\n",
    "async def stage1(stream: AsyncIterator[int]) -> AsyncIterator[int]:\n",
    "    async for item in stream:\n",
    "        yield item * 2\n",
    "        sleep(1)\n",
    "\n",
    "\n",
    "async def stage2(stream: AsyncIterator[int]) -> AsyncIterator[str]:\n",
    "    async for item in stream:\n",
    "        yield f\"Number: {item}\"\n",
    "\n",
    "\n",
    "pipeline = Pipeline[AsyncIterator[int], AsyncIterator[str]]().pipe(stage1).pipe(stage2)\n",
    "\n",
    "\n",
    "async def input_stream() -> AsyncIterator[int]:\n",
    "    for i in range(5):\n",
    "        yield i\n",
    "\n",
    "\n",
    "async def main():\n",
    "    stream = await pipeline.process(input_stream())\n",
    "\n",
    "    async for result in stream:\n",
    "        print(result)\n",
    "\n",
    "\n",
    "await main()"
   ]
  }
 ],
 "metadata": {
  "kernelspec": {
   "display_name": ".venv",
   "language": "python",
   "name": "python3"
  },
  "language_info": {
   "codemirror_mode": {
    "name": "ipython",
    "version": 3
   },
   "file_extension": ".py",
   "mimetype": "text/x-python",
   "name": "python",
   "nbconvert_exporter": "python",
   "pygments_lexer": "ipython3",
   "version": "3.13.2"
  }
 },
 "nbformat": 4,
 "nbformat_minor": 2
}
